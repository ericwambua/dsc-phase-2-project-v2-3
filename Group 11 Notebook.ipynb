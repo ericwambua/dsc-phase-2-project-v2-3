{
 "cells": [
  {
   "cell_type": "markdown",
   "metadata": {},
   "source": [
    "## Final Project Submission\n",
    "\n",
    "Please fill out:\n",
    "* Student name: \n",
    "                Jane Mwangi, \n",
    "                Yvonne Kamari,\n",
    "                Wilfred Kivinda,\n",
    "                Eric Njeru\n",
    "* Student pace:  Part time \n",
    "* Scheduled project review date/time: 11th September 2023\n",
    "* Instructor name: MaryAnn Mwikali\n",
    "* Blog post URL:\n"
   ]
  },
  {
   "cell_type": "markdown",
   "metadata": {},
   "source": [
    "# KING COUNTY HOUSE PRICING PROJECT."
   ]
  },
  {
   "cell_type": "markdown",
   "metadata": {},
   "source": [
    "## Project Overview"
   ]
  },
  {
   "cell_type": "markdown",
   "metadata": {},
   "source": [
    "This project focuses on providing data-driven insights to real estate firms operating in King County. Leveraging a comprehensive dataset containing various housing-related features and house prices, the goal is to gain a deep understanding of the factors influencing house prices in the county. This information will enable real estate professionals to make informed decisions, enhance their property valuation processes, and optimize their market strategies."
   ]
  },
  {
   "cell_type": "markdown",
   "metadata": {},
   "source": [
    "## Business Problem\n",
    "\n",
    "The King County housing market exhibits various patterns and factors influencing house prices. However, there is a need to understand these factors more comprehensively to aid real estate stakeholders in making informed decisions. The primary business problem is to develop a robust pricing model that accurately predicts house prices based on various features. This model should provide insights into which features have the most significant impact on house prices and help real estate professionals, sellers, and buyers make informed decisions.\n",
    "\n",
    "## Project Objectives:\n",
    "\n",
    "The project aim is to construct a predictive model for house prices in King County, Washington, utilizing comprehensive data encompassing bedrooms, bathrooms, square footage, condition, location, and relevant attributes. This endeavor serves a dual purpose: understanding the primary determinants of house prices and enhancing pricing accuracy for real estate transactions.\n",
    "\n",
    "## Methodology:\n",
    "\n",
    "The project follows a structured methodology to achieve its objectives:\n",
    "\n",
    "Data Preprocessing: Loading and cleaning the dataset, tackling issues such as missing values, outliers, and categorical variables. Ensuring data quality is essential for reliable analysis.\n",
    "\n",
    "Exploratory Data Analysis (EDA): Comprehensive EDA is conducted to gain insights into the data's distribution, correlations, and patterns. Visualizations and statistical analyses are employed to uncover significant trends.\n",
    "\n",
    "Feature Selection: Through correlation analysis, VIF assessment for multicollinearity detection, and domain knowledge, significant features are identified. This step is crucial in determining which aspects of a property have the most substantial impact on house prices.\n",
    "\n",
    "Model Building: Multiple regression models, including linear, multiple linear, and advanced techniques, are constructed to predict house prices. These models leverage the identified features to provide accurate estimates.\n",
    "\n",
    "Model Evaluation: Model performance is assessed using metrics such as R-squared, p-values, and feature coefficients. Continuous evaluation ensures the model's reliability.\n",
    "\n",
    "Model Optimization: Fine-tuning the model is essential to enhance predictive accuracy and interpretability, making it a valuable tool for decision-making.\n",
    "\n",
    "## Key Challenges:\n",
    "\n",
    "Pricing Accuracy: Real estate professionals struggle to determine competitive and fair property prices due to a lack of quantitative insights into the factors that drive house prices in King County.\n",
    "\n",
    "Client Satisfaction: Inadequate pricing guidance can lead to dissatisfied clients, as properties may be priced too high, leading to longer time on the market, or too low, resulting in missed revenue opportunities.\n",
    "\n",
    "Competitive Advantage: Without data-driven insights, real estate firms are at a disadvantage compared to competitors who can provide clients with precise pricing recommendations."
   ]
  },
  {
   "cell_type": "markdown",
   "metadata": {},
   "source": [
    "\n",
    "## Install & Import the Required Libraries\n"
   ]
  },
  {
   "cell_type": "code",
   "execution_count": 1,
   "metadata": {},
   "outputs": [
    {
     "name": "stdout",
     "output_type": "stream",
     "text": [
      "Requirement already satisfied: tabulate in c:\\users\\jmwan\\anaconda3\\lib\\site-packages (0.8.10)\n",
      "Note: you may need to restart the kernel to use updated packages.\n"
     ]
    }
   ],
   "source": [
    "pip install tabulate"
   ]
  },
  {
   "cell_type": "code",
   "execution_count": 2,
   "metadata": {},
   "outputs": [],
   "source": [
    "# Import the necessary libraries\n",
    "import pandas as pd\n",
    "import numpy as np\n",
    "import matplotlib.pyplot as plt\n",
    "%matplotlib inline\n",
    "import seaborn as sns\n",
    "import statsmodels.api as sm\n",
    "from statsmodels.formula.api import ols\n",
    "from sklearn.linear_model import Ridge\n",
    "from sklearn.preprocessing import MinMaxScaler\n",
    "from sklearn.linear_model import LinearRegression\n",
    "from sklearn.model_selection import train_test_split \n",
    "from sklearn.metrics import mean_squared_error, r2_score, mean_absolute_error\n",
    "from statsmodels.stats.outliers_influence import variance_inflation_factor\n",
    "import warnings\n",
    "warnings.filterwarnings('ignore')\n",
    "from tabulate import tabulate"
   ]
  },
  {
   "cell_type": "markdown",
   "metadata": {},
   "source": [
    "## Loading  the Data Into a Data Frame\n"
   ]
  },
  {
   "cell_type": "code",
   "execution_count": 3,
   "metadata": {},
   "outputs": [],
   "source": [
    "df = pd.read_csv(\"data/kc_house_data.csv\")"
   ]
  },
  {
   "cell_type": "markdown",
   "metadata": {},
   "source": [
    "### Column Descriptions\n",
    "\n",
    "* `id` - Unique identifier for a house\n",
    "* `date` - Date house was sold\n",
    "* `price` - Sale price (prediction target)\n",
    "* `bedrooms` - Number of bedrooms\n",
    "* `bathrooms` - Number of bathrooms\n",
    "* `sqft_living` - Square footage of living space in the home\n",
    "* `sqft_lot` - Square footage of the lot\n",
    "* `floors` - Number of floors (levels) in house\n",
    "* `waterfront` - Whether the house is on a waterfront\n",
    "* `view` - Quality of view from house\n",
    "* `condition` - How good the overall condition of the house is. Related to maintenance of house.\n",
    "* `grade` - Overall grade of the house. Related to the construction and design of the house.\n",
    "* `sqft_above` - Square footage of house apart from basement\n",
    "* `sqft_basement` - Square footage of the basement\n",
    "* `yr_built` - Year when house was built\n",
    "* `yr_renovated` - Year when house was renovated\n",
    "* `zipcode` - ZIP Code used by the United States Postal Service\n",
    "* `lat` - Latitude coordinate\n",
    "* `long` - Longitude coordinate\n",
    "* `sqft_living15` - The square footage of interior housing living space for the nearest 15 neighbors\n",
    "* `sqft_lot15` - The square footage of the land lots of the nearest 15 neighbors"
   ]
  },
  {
   "cell_type": "markdown",
   "metadata": {},
   "source": [
    "## Data Cleaning and Preparation\n",
    "\n",
    "This process involves refining data to ensure its suitability for analysis. This entails the elimination of irrelevant or inaccurate information that could potentially impede the effectiveness of our models . Key tasks within data preparation involve the identification and resolution of missing values, rectification of erroneous data entries, and the reduction of duplicate records."
   ]
  },
  {
   "cell_type": "code",
   "execution_count": 4,
   "metadata": {},
   "outputs": [
    {
     "data": {
      "text/html": [
       "<div>\n",
       "<style scoped>\n",
       "    .dataframe tbody tr th:only-of-type {\n",
       "        vertical-align: middle;\n",
       "    }\n",
       "\n",
       "    .dataframe tbody tr th {\n",
       "        vertical-align: top;\n",
       "    }\n",
       "\n",
       "    .dataframe thead th {\n",
       "        text-align: right;\n",
       "    }\n",
       "</style>\n",
       "<table border=\"1\" class=\"dataframe\">\n",
       "  <thead>\n",
       "    <tr style=\"text-align: right;\">\n",
       "      <th></th>\n",
       "      <th>id</th>\n",
       "      <th>date</th>\n",
       "      <th>price</th>\n",
       "      <th>bedrooms</th>\n",
       "      <th>bathrooms</th>\n",
       "      <th>sqft_living</th>\n",
       "      <th>sqft_lot</th>\n",
       "      <th>floors</th>\n",
       "      <th>waterfront</th>\n",
       "      <th>view</th>\n",
       "      <th>...</th>\n",
       "      <th>grade</th>\n",
       "      <th>sqft_above</th>\n",
       "      <th>sqft_basement</th>\n",
       "      <th>yr_built</th>\n",
       "      <th>yr_renovated</th>\n",
       "      <th>zipcode</th>\n",
       "      <th>lat</th>\n",
       "      <th>long</th>\n",
       "      <th>sqft_living15</th>\n",
       "      <th>sqft_lot15</th>\n",
       "    </tr>\n",
       "  </thead>\n",
       "  <tbody>\n",
       "    <tr>\n",
       "      <th>0</th>\n",
       "      <td>7129300520</td>\n",
       "      <td>10/13/2014</td>\n",
       "      <td>221900.0</td>\n",
       "      <td>3</td>\n",
       "      <td>1.00</td>\n",
       "      <td>1180</td>\n",
       "      <td>5650</td>\n",
       "      <td>1.0</td>\n",
       "      <td>NaN</td>\n",
       "      <td>NONE</td>\n",
       "      <td>...</td>\n",
       "      <td>7 Average</td>\n",
       "      <td>1180</td>\n",
       "      <td>0.0</td>\n",
       "      <td>1955</td>\n",
       "      <td>0.0</td>\n",
       "      <td>98178</td>\n",
       "      <td>47.5112</td>\n",
       "      <td>-122.257</td>\n",
       "      <td>1340</td>\n",
       "      <td>5650</td>\n",
       "    </tr>\n",
       "    <tr>\n",
       "      <th>1</th>\n",
       "      <td>6414100192</td>\n",
       "      <td>12/9/2014</td>\n",
       "      <td>538000.0</td>\n",
       "      <td>3</td>\n",
       "      <td>2.25</td>\n",
       "      <td>2570</td>\n",
       "      <td>7242</td>\n",
       "      <td>2.0</td>\n",
       "      <td>NO</td>\n",
       "      <td>NONE</td>\n",
       "      <td>...</td>\n",
       "      <td>7 Average</td>\n",
       "      <td>2170</td>\n",
       "      <td>400.0</td>\n",
       "      <td>1951</td>\n",
       "      <td>1991.0</td>\n",
       "      <td>98125</td>\n",
       "      <td>47.7210</td>\n",
       "      <td>-122.319</td>\n",
       "      <td>1690</td>\n",
       "      <td>7639</td>\n",
       "    </tr>\n",
       "    <tr>\n",
       "      <th>2</th>\n",
       "      <td>5631500400</td>\n",
       "      <td>2/25/2015</td>\n",
       "      <td>180000.0</td>\n",
       "      <td>2</td>\n",
       "      <td>1.00</td>\n",
       "      <td>770</td>\n",
       "      <td>10000</td>\n",
       "      <td>1.0</td>\n",
       "      <td>NO</td>\n",
       "      <td>NONE</td>\n",
       "      <td>...</td>\n",
       "      <td>6 Low Average</td>\n",
       "      <td>770</td>\n",
       "      <td>0.0</td>\n",
       "      <td>1933</td>\n",
       "      <td>NaN</td>\n",
       "      <td>98028</td>\n",
       "      <td>47.7379</td>\n",
       "      <td>-122.233</td>\n",
       "      <td>2720</td>\n",
       "      <td>8062</td>\n",
       "    </tr>\n",
       "    <tr>\n",
       "      <th>3</th>\n",
       "      <td>2487200875</td>\n",
       "      <td>12/9/2014</td>\n",
       "      <td>604000.0</td>\n",
       "      <td>4</td>\n",
       "      <td>3.00</td>\n",
       "      <td>1960</td>\n",
       "      <td>5000</td>\n",
       "      <td>1.0</td>\n",
       "      <td>NO</td>\n",
       "      <td>NONE</td>\n",
       "      <td>...</td>\n",
       "      <td>7 Average</td>\n",
       "      <td>1050</td>\n",
       "      <td>910.0</td>\n",
       "      <td>1965</td>\n",
       "      <td>0.0</td>\n",
       "      <td>98136</td>\n",
       "      <td>47.5208</td>\n",
       "      <td>-122.393</td>\n",
       "      <td>1360</td>\n",
       "      <td>5000</td>\n",
       "    </tr>\n",
       "    <tr>\n",
       "      <th>4</th>\n",
       "      <td>1954400510</td>\n",
       "      <td>2/18/2015</td>\n",
       "      <td>510000.0</td>\n",
       "      <td>3</td>\n",
       "      <td>2.00</td>\n",
       "      <td>1680</td>\n",
       "      <td>8080</td>\n",
       "      <td>1.0</td>\n",
       "      <td>NO</td>\n",
       "      <td>NONE</td>\n",
       "      <td>...</td>\n",
       "      <td>8 Good</td>\n",
       "      <td>1680</td>\n",
       "      <td>0.0</td>\n",
       "      <td>1987</td>\n",
       "      <td>0.0</td>\n",
       "      <td>98074</td>\n",
       "      <td>47.6168</td>\n",
       "      <td>-122.045</td>\n",
       "      <td>1800</td>\n",
       "      <td>7503</td>\n",
       "    </tr>\n",
       "  </tbody>\n",
       "</table>\n",
       "<p>5 rows × 21 columns</p>\n",
       "</div>"
      ],
      "text/plain": [
       "           id        date     price  bedrooms  bathrooms  sqft_living  \\\n",
       "0  7129300520  10/13/2014  221900.0         3       1.00         1180   \n",
       "1  6414100192   12/9/2014  538000.0         3       2.25         2570   \n",
       "2  5631500400   2/25/2015  180000.0         2       1.00          770   \n",
       "3  2487200875   12/9/2014  604000.0         4       3.00         1960   \n",
       "4  1954400510   2/18/2015  510000.0         3       2.00         1680   \n",
       "\n",
       "   sqft_lot  floors waterfront  view  ...          grade sqft_above  \\\n",
       "0      5650     1.0        NaN  NONE  ...      7 Average       1180   \n",
       "1      7242     2.0         NO  NONE  ...      7 Average       2170   \n",
       "2     10000     1.0         NO  NONE  ...  6 Low Average        770   \n",
       "3      5000     1.0         NO  NONE  ...      7 Average       1050   \n",
       "4      8080     1.0         NO  NONE  ...         8 Good       1680   \n",
       "\n",
       "   sqft_basement yr_built  yr_renovated  zipcode      lat     long  \\\n",
       "0            0.0     1955           0.0    98178  47.5112 -122.257   \n",
       "1          400.0     1951        1991.0    98125  47.7210 -122.319   \n",
       "2            0.0     1933           NaN    98028  47.7379 -122.233   \n",
       "3          910.0     1965           0.0    98136  47.5208 -122.393   \n",
       "4            0.0     1987           0.0    98074  47.6168 -122.045   \n",
       "\n",
       "   sqft_living15  sqft_lot15  \n",
       "0           1340        5650  \n",
       "1           1690        7639  \n",
       "2           2720        8062  \n",
       "3           1360        5000  \n",
       "4           1800        7503  \n",
       "\n",
       "[5 rows x 21 columns]"
      ]
     },
     "execution_count": 4,
     "metadata": {},
     "output_type": "execute_result"
    }
   ],
   "source": [
    "df.head()"
   ]
  },
  {
   "cell_type": "code",
   "execution_count": 5,
   "metadata": {},
   "outputs": [
    {
     "data": {
      "text/html": [
       "<div>\n",
       "<style scoped>\n",
       "    .dataframe tbody tr th:only-of-type {\n",
       "        vertical-align: middle;\n",
       "    }\n",
       "\n",
       "    .dataframe tbody tr th {\n",
       "        vertical-align: top;\n",
       "    }\n",
       "\n",
       "    .dataframe thead th {\n",
       "        text-align: right;\n",
       "    }\n",
       "</style>\n",
       "<table border=\"1\" class=\"dataframe\">\n",
       "  <thead>\n",
       "    <tr style=\"text-align: right;\">\n",
       "      <th></th>\n",
       "      <th>id</th>\n",
       "      <th>date</th>\n",
       "      <th>price</th>\n",
       "      <th>bedrooms</th>\n",
       "      <th>bathrooms</th>\n",
       "      <th>sqft_living</th>\n",
       "      <th>sqft_lot</th>\n",
       "      <th>floors</th>\n",
       "      <th>waterfront</th>\n",
       "      <th>view</th>\n",
       "      <th>...</th>\n",
       "      <th>grade</th>\n",
       "      <th>sqft_above</th>\n",
       "      <th>sqft_basement</th>\n",
       "      <th>yr_built</th>\n",
       "      <th>yr_renovated</th>\n",
       "      <th>zipcode</th>\n",
       "      <th>lat</th>\n",
       "      <th>long</th>\n",
       "      <th>sqft_living15</th>\n",
       "      <th>sqft_lot15</th>\n",
       "    </tr>\n",
       "  </thead>\n",
       "  <tbody>\n",
       "    <tr>\n",
       "      <th>21592</th>\n",
       "      <td>263000018</td>\n",
       "      <td>5/21/2014</td>\n",
       "      <td>360000.0</td>\n",
       "      <td>3</td>\n",
       "      <td>2.50</td>\n",
       "      <td>1530</td>\n",
       "      <td>1131</td>\n",
       "      <td>3.0</td>\n",
       "      <td>NO</td>\n",
       "      <td>NONE</td>\n",
       "      <td>...</td>\n",
       "      <td>8 Good</td>\n",
       "      <td>1530</td>\n",
       "      <td>0.0</td>\n",
       "      <td>2009</td>\n",
       "      <td>0.0</td>\n",
       "      <td>98103</td>\n",
       "      <td>47.6993</td>\n",
       "      <td>-122.346</td>\n",
       "      <td>1530</td>\n",
       "      <td>1509</td>\n",
       "    </tr>\n",
       "    <tr>\n",
       "      <th>21593</th>\n",
       "      <td>6600060120</td>\n",
       "      <td>2/23/2015</td>\n",
       "      <td>400000.0</td>\n",
       "      <td>4</td>\n",
       "      <td>2.50</td>\n",
       "      <td>2310</td>\n",
       "      <td>5813</td>\n",
       "      <td>2.0</td>\n",
       "      <td>NO</td>\n",
       "      <td>NONE</td>\n",
       "      <td>...</td>\n",
       "      <td>8 Good</td>\n",
       "      <td>2310</td>\n",
       "      <td>0.0</td>\n",
       "      <td>2014</td>\n",
       "      <td>0.0</td>\n",
       "      <td>98146</td>\n",
       "      <td>47.5107</td>\n",
       "      <td>-122.362</td>\n",
       "      <td>1830</td>\n",
       "      <td>7200</td>\n",
       "    </tr>\n",
       "    <tr>\n",
       "      <th>21594</th>\n",
       "      <td>1523300141</td>\n",
       "      <td>6/23/2014</td>\n",
       "      <td>402101.0</td>\n",
       "      <td>2</td>\n",
       "      <td>0.75</td>\n",
       "      <td>1020</td>\n",
       "      <td>1350</td>\n",
       "      <td>2.0</td>\n",
       "      <td>NO</td>\n",
       "      <td>NONE</td>\n",
       "      <td>...</td>\n",
       "      <td>7 Average</td>\n",
       "      <td>1020</td>\n",
       "      <td>0.0</td>\n",
       "      <td>2009</td>\n",
       "      <td>0.0</td>\n",
       "      <td>98144</td>\n",
       "      <td>47.5944</td>\n",
       "      <td>-122.299</td>\n",
       "      <td>1020</td>\n",
       "      <td>2007</td>\n",
       "    </tr>\n",
       "    <tr>\n",
       "      <th>21595</th>\n",
       "      <td>291310100</td>\n",
       "      <td>1/16/2015</td>\n",
       "      <td>400000.0</td>\n",
       "      <td>3</td>\n",
       "      <td>2.50</td>\n",
       "      <td>1600</td>\n",
       "      <td>2388</td>\n",
       "      <td>2.0</td>\n",
       "      <td>NaN</td>\n",
       "      <td>NONE</td>\n",
       "      <td>...</td>\n",
       "      <td>8 Good</td>\n",
       "      <td>1600</td>\n",
       "      <td>0.0</td>\n",
       "      <td>2004</td>\n",
       "      <td>0.0</td>\n",
       "      <td>98027</td>\n",
       "      <td>47.5345</td>\n",
       "      <td>-122.069</td>\n",
       "      <td>1410</td>\n",
       "      <td>1287</td>\n",
       "    </tr>\n",
       "    <tr>\n",
       "      <th>21596</th>\n",
       "      <td>1523300157</td>\n",
       "      <td>10/15/2014</td>\n",
       "      <td>325000.0</td>\n",
       "      <td>2</td>\n",
       "      <td>0.75</td>\n",
       "      <td>1020</td>\n",
       "      <td>1076</td>\n",
       "      <td>2.0</td>\n",
       "      <td>NO</td>\n",
       "      <td>NONE</td>\n",
       "      <td>...</td>\n",
       "      <td>7 Average</td>\n",
       "      <td>1020</td>\n",
       "      <td>0.0</td>\n",
       "      <td>2008</td>\n",
       "      <td>0.0</td>\n",
       "      <td>98144</td>\n",
       "      <td>47.5941</td>\n",
       "      <td>-122.299</td>\n",
       "      <td>1020</td>\n",
       "      <td>1357</td>\n",
       "    </tr>\n",
       "  </tbody>\n",
       "</table>\n",
       "<p>5 rows × 21 columns</p>\n",
       "</div>"
      ],
      "text/plain": [
       "               id        date     price  bedrooms  bathrooms  sqft_living  \\\n",
       "21592   263000018   5/21/2014  360000.0         3       2.50         1530   \n",
       "21593  6600060120   2/23/2015  400000.0         4       2.50         2310   \n",
       "21594  1523300141   6/23/2014  402101.0         2       0.75         1020   \n",
       "21595   291310100   1/16/2015  400000.0         3       2.50         1600   \n",
       "21596  1523300157  10/15/2014  325000.0         2       0.75         1020   \n",
       "\n",
       "       sqft_lot  floors waterfront  view  ...      grade sqft_above  \\\n",
       "21592      1131     3.0         NO  NONE  ...     8 Good       1530   \n",
       "21593      5813     2.0         NO  NONE  ...     8 Good       2310   \n",
       "21594      1350     2.0         NO  NONE  ...  7 Average       1020   \n",
       "21595      2388     2.0        NaN  NONE  ...     8 Good       1600   \n",
       "21596      1076     2.0         NO  NONE  ...  7 Average       1020   \n",
       "\n",
       "       sqft_basement yr_built  yr_renovated  zipcode      lat     long  \\\n",
       "21592            0.0     2009           0.0    98103  47.6993 -122.346   \n",
       "21593            0.0     2014           0.0    98146  47.5107 -122.362   \n",
       "21594            0.0     2009           0.0    98144  47.5944 -122.299   \n",
       "21595            0.0     2004           0.0    98027  47.5345 -122.069   \n",
       "21596            0.0     2008           0.0    98144  47.5941 -122.299   \n",
       "\n",
       "       sqft_living15  sqft_lot15  \n",
       "21592           1530        1509  \n",
       "21593           1830        7200  \n",
       "21594           1020        2007  \n",
       "21595           1410        1287  \n",
       "21596           1020        1357  \n",
       "\n",
       "[5 rows x 21 columns]"
      ]
     },
     "execution_count": 5,
     "metadata": {},
     "output_type": "execute_result"
    }
   ],
   "source": [
    "df.tail()"
   ]
  },
  {
   "cell_type": "code",
   "execution_count": 6,
   "metadata": {},
   "outputs": [
    {
     "name": "stdout",
     "output_type": "stream",
     "text": [
      "Number of Rows: 21597\n",
      "Number of Columns: 21\n"
     ]
    }
   ],
   "source": [
    "# Find the shape of our dataset\n",
    "df.shape\n",
    "\n",
    "print(\"Number of Rows:\", df.shape[0])\n",
    "print(\"Number of Columns:\", df.shape[1])"
   ]
  },
  {
   "cell_type": "code",
   "execution_count": 7,
   "metadata": {
    "scrolled": true
   },
   "outputs": [
    {
     "name": "stdout",
     "output_type": "stream",
     "text": [
      "<class 'pandas.core.frame.DataFrame'>\n",
      "RangeIndex: 21597 entries, 0 to 21596\n",
      "Data columns (total 21 columns):\n",
      " #   Column         Non-Null Count  Dtype  \n",
      "---  ------         --------------  -----  \n",
      " 0   id             21597 non-null  int64  \n",
      " 1   date           21597 non-null  object \n",
      " 2   price          21597 non-null  float64\n",
      " 3   bedrooms       21597 non-null  int64  \n",
      " 4   bathrooms      21597 non-null  float64\n",
      " 5   sqft_living    21597 non-null  int64  \n",
      " 6   sqft_lot       21597 non-null  int64  \n",
      " 7   floors         21597 non-null  float64\n",
      " 8   waterfront     19221 non-null  object \n",
      " 9   view           21534 non-null  object \n",
      " 10  condition      21597 non-null  object \n",
      " 11  grade          21597 non-null  object \n",
      " 12  sqft_above     21597 non-null  int64  \n",
      " 13  sqft_basement  21597 non-null  object \n",
      " 14  yr_built       21597 non-null  int64  \n",
      " 15  yr_renovated   17755 non-null  float64\n",
      " 16  zipcode        21597 non-null  int64  \n",
      " 17  lat            21597 non-null  float64\n",
      " 18  long           21597 non-null  float64\n",
      " 19  sqft_living15  21597 non-null  int64  \n",
      " 20  sqft_lot15     21597 non-null  int64  \n",
      "dtypes: float64(6), int64(9), object(6)\n",
      "memory usage: 3.5+ MB\n"
     ]
    }
   ],
   "source": [
    "# Display summary information about the dataframe\n",
    "df.info()"
   ]
  },
  {
   "cell_type": "markdown",
   "metadata": {},
   "source": [
    "Our data has 6 variables as objects i.e Date, waterfront,view, condition, grade,sqft_basement"
   ]
  },
  {
   "cell_type": "markdown",
   "metadata": {},
   "source": [
    "### Dealing with the Missing Values"
   ]
  },
  {
   "cell_type": "code",
   "execution_count": 8,
   "metadata": {
    "scrolled": true
   },
   "outputs": [
    {
     "name": "stdout",
     "output_type": "stream",
     "text": [
      "id                0.00\n",
      "date              0.00\n",
      "price             0.00\n",
      "bedrooms          0.00\n",
      "bathrooms         0.00\n",
      "sqft_living       0.00\n",
      "sqft_lot          0.00\n",
      "floors            0.00\n",
      "waterfront       11.00\n",
      "view              0.29\n",
      "condition         0.00\n",
      "grade             0.00\n",
      "sqft_above        0.00\n",
      "sqft_basement     0.00\n",
      "yr_built          0.00\n",
      "yr_renovated     17.79\n",
      "zipcode           0.00\n",
      "lat               0.00\n",
      "long              0.00\n",
      "sqft_living15     0.00\n",
      "sqft_lot15        0.00\n",
      "dtype: float64\n"
     ]
    }
   ],
   "source": [
    "# Find the percentage of missing values in each column\n",
    "percantage_msng_values = df.isnull().sum()* 100 / len (df)\n",
    "\n",
    "print(percantage_msng_values.round(2))"
   ]
  },
  {
   "cell_type": "markdown",
   "metadata": {},
   "source": [
    "Our data frame has some missing values in waterfront, view and year renovated columns constituting to 11%, 0.29% and 17.79% respectively."
   ]
  },
  {
   "cell_type": "code",
   "execution_count": 9,
   "metadata": {},
   "outputs": [
    {
     "name": "stdout",
     "output_type": "stream",
     "text": [
      "[nan 'NO' 'YES']\n"
     ]
    }
   ],
   "source": [
    "# Finding unique values in the \"waterfront\" column\n",
    "unique_values_wf = df['waterfront'].unique()\n",
    "\n",
    "print(unique_values_wf)\n"
   ]
  },
  {
   "cell_type": "code",
   "execution_count": 10,
   "metadata": {},
   "outputs": [
    {
     "name": "stdout",
     "output_type": "stream",
     "text": [
      "Total number of houses where 'waterfront' is 'YES': 146\n"
     ]
    }
   ],
   "source": [
    "# Find the total number of houses where 'waterfront' is 'yes'\n",
    "total_waterfront_yes = len(df[df['waterfront'] == 'YES'])\n",
    "\n",
    "# Print the total number\n",
    "print(\"Total number of houses where 'waterfront' is 'YES':\", total_waterfront_yes)"
   ]
  },
  {
   "cell_type": "code",
   "execution_count": 11,
   "metadata": {},
   "outputs": [],
   "source": [
    "# Replace null values in 'waterfront' with 'NO'\n",
    "df['waterfront'].fillna('NO', inplace=True)"
   ]
  },
  {
   "cell_type": "markdown",
   "metadata": {},
   "source": [
    "The waterfront columns contain nan, No and Yes unique values. We decided to fill nan entries with No on assumption that these houses lacked a waterfront and hence entries made as nan"
   ]
  },
  {
   "cell_type": "code",
   "execution_count": 12,
   "metadata": {},
   "outputs": [
    {
     "name": "stdout",
     "output_type": "stream",
     "text": [
      "['NONE' nan 'GOOD' 'EXCELLENT' 'AVERAGE' 'FAIR']\n"
     ]
    }
   ],
   "source": [
    "# Find unique values in the view column\n",
    "unique_values_view = df['view'].unique()\n",
    "\n",
    "print(unique_values_view)"
   ]
  },
  {
   "cell_type": "code",
   "execution_count": 13,
   "metadata": {},
   "outputs": [
    {
     "name": "stdout",
     "output_type": "stream",
     "text": [
      "Total number of houses with null values under the 'view' column: 63\n"
     ]
    }
   ],
   "source": [
    "# Find out how many houses have null values under the 'view' column\n",
    "null_values_view = df['view'].isnull().sum()\n",
    "\n",
    "# Print the total number\n",
    "print(\"Total number of houses with null values under the 'view' column:\", null_values_view)"
   ]
  },
  {
   "cell_type": "code",
   "execution_count": 14,
   "metadata": {},
   "outputs": [
    {
     "name": "stdout",
     "output_type": "stream",
     "text": [
      "Total number of houses where 'view' is 'NONE': 19422\n"
     ]
    }
   ],
   "source": [
    "#find out how many\n",
    "total_view_none = len(df[df['view'] == 'NONE'])\n",
    "\n",
    "# Print the total number\n",
    "print(\"Total number of houses where 'view' is 'NONE':\", total_view_none)"
   ]
  },
  {
   "cell_type": "code",
   "execution_count": 15,
   "metadata": {},
   "outputs": [],
   "source": [
    "# Replace NaN values in the 'view' column with 'NONE'\n",
    "df['view'].fillna('NONE', inplace=True)"
   ]
  },
  {
   "cell_type": "markdown",
   "metadata": {},
   "source": [
    "The view columns contain 'NONE' nan 'GOOD' 'EXCELLENT' 'AVERAGE' 'FAIR' unique values. The nan entries are 63 in number. We decided to fill the nan entries  with 'NONE' after we assumed that these houses lacked a quality view"
   ]
  },
  {
   "cell_type": "code",
   "execution_count": 16,
   "metadata": {},
   "outputs": [
    {
     "name": "stdout",
     "output_type": "stream",
     "text": [
      "[   0. 1934. 1940. 1944. 1945. 1946. 1948. 1950. 1951. 1953. 1954. 1955.\n",
      " 1956. 1957. 1958. 1959. 1960. 1962. 1963. 1964. 1965. 1967. 1968. 1969.\n",
      " 1970. 1971. 1972. 1973. 1974. 1975. 1976. 1977. 1978. 1979. 1980. 1981.\n",
      " 1982. 1983. 1984. 1985. 1986. 1987. 1988. 1989. 1990. 1991. 1992. 1993.\n",
      " 1994. 1995. 1996. 1997. 1998. 1999. 2000. 2001. 2002. 2003. 2004. 2005.\n",
      " 2006. 2007. 2008. 2009. 2010. 2011. 2012. 2013. 2014. 2015.   nan]\n"
     ]
    }
   ],
   "source": [
    "# Finding unique values in the the yr_renovated column\n",
    "unique_values_renovation = df['yr_renovated'].unique()\n",
    "unique_values_renovation.sort()\n",
    "\n",
    "print(unique_values_renovation)"
   ]
  },
  {
   "cell_type": "code",
   "execution_count": 17,
   "metadata": {
    "scrolled": true
   },
   "outputs": [
    {
     "name": "stdout",
     "output_type": "stream",
     "text": [
      "\n",
      "Number of houses with 'yr_renovated' greater than 0: 744\n"
     ]
    }
   ],
   "source": [
    "# Find the number of houses with 'yr_renovated' greater than 0\n",
    "houses_with_renovations = df[df['yr_renovated'] > 0]\n",
    "\n",
    "# Print the number of houses with 'yr_renovated' greater than 0\n",
    "print(\"\\nNumber of houses with 'yr_renovated' greater than 0:\", len(houses_with_renovations))"
   ]
  },
  {
   "cell_type": "code",
   "execution_count": 18,
   "metadata": {},
   "outputs": [],
   "source": [
    "# Replace null values in 'yr_renovated' with 0\n",
    "df['yr_renovated'].fillna(0, inplace=True)"
   ]
  },
  {
   "cell_type": "markdown",
   "metadata": {},
   "source": [
    "The yr_renovated column has year values ranging between 1934 and 2015, however it also contains 0 and nan entries. We made an assumption that these were houses that had never been renovated. We then replaced the nan entries with 0"
   ]
  },
  {
   "cell_type": "code",
   "execution_count": 19,
   "metadata": {},
   "outputs": [
    {
     "name": "stdout",
     "output_type": "stream",
     "text": [
      "['Average' 'Very Good' 'Good' 'Poor' 'Fair']\n"
     ]
    }
   ],
   "source": [
    "# Investigating the condition column\n",
    "unique_values_condition = df['condition'].unique()\n",
    "\n",
    "print(unique_values_condition)"
   ]
  },
  {
   "cell_type": "code",
   "execution_count": 20,
   "metadata": {},
   "outputs": [
    {
     "name": "stdout",
     "output_type": "stream",
     "text": [
      "['10 Very Good' '11 Excellent' '12 Luxury' '13 Mansion' '3 Poor' '4 Low'\n",
      " '5 Fair' '6 Low Average' '7 Average' '8 Good' '9 Better']\n"
     ]
    }
   ],
   "source": [
    "# Investigating the grade column\n",
    "unique_values_grade = df['grade'].unique()\n",
    "\n",
    "# Sorting the unique values in ascending order\n",
    "unique_values_grade.sort()\n",
    "\n",
    "print(unique_values_grade)"
   ]
  },
  {
   "cell_type": "code",
   "execution_count": 21,
   "metadata": {
    "scrolled": true
   },
   "outputs": [
    {
     "name": "stdout",
     "output_type": "stream",
     "text": [
      "id               0.0\n",
      "date             0.0\n",
      "price            0.0\n",
      "bedrooms         0.0\n",
      "bathrooms        0.0\n",
      "sqft_living      0.0\n",
      "sqft_lot         0.0\n",
      "floors           0.0\n",
      "waterfront       0.0\n",
      "view             0.0\n",
      "condition        0.0\n",
      "grade            0.0\n",
      "sqft_above       0.0\n",
      "sqft_basement    0.0\n",
      "yr_built         0.0\n",
      "yr_renovated     0.0\n",
      "zipcode          0.0\n",
      "lat              0.0\n",
      "long             0.0\n",
      "sqft_living15    0.0\n",
      "sqft_lot15       0.0\n",
      "dtype: float64\n"
     ]
    }
   ],
   "source": [
    "missing_values_percent = df.isnull().sum() * 100 / len(df)\n",
    "\n",
    "print(missing_values_percent)"
   ]
  },
  {
   "cell_type": "markdown",
   "metadata": {},
   "source": [
    "We have cleaned our data and no longer have missing values."
   ]
  },
  {
   "cell_type": "code",
   "execution_count": 22,
   "metadata": {
    "scrolled": true
   },
   "outputs": [
    {
     "data": {
      "text/plain": [
       "0       0.0\n",
       "1     400.0\n",
       "2       0.0\n",
       "3     910.0\n",
       "4       0.0\n",
       "5    1530.0\n",
       "6         ?\n",
       "7       0.0\n",
       "Name: sqft_basement, dtype: object"
      ]
     },
     "execution_count": 22,
     "metadata": {},
     "output_type": "execute_result"
    }
   ],
   "source": [
    "# Investigate the 'sqft_basement' column\n",
    "df['sqft_basement'].head(8)"
   ]
  },
  {
   "cell_type": "code",
   "execution_count": 23,
   "metadata": {},
   "outputs": [
    {
     "name": "stdout",
     "output_type": "stream",
     "text": [
      "Number of '?' in 'sqft_basement' column: 454\n",
      "Percentage of '?' in 'sqft_basement' column: 2.1\n"
     ]
    }
   ],
   "source": [
    "# Count number of '?' in 'sqft_basement' column\n",
    "count_question_marks = df['sqft_basement'].str.count('\\?').sum()\n",
    "\n",
    "# Calculate the percentage of '?' in 'sqft_basement' column\n",
    "percentage_question_marks = (count_question_marks / len(df['sqft_basement'])) * 100\n",
    "\n",
    "print(\"Number of '?' in 'sqft_basement' column:\", count_question_marks)\n",
    "print(\"Percentage of '?' in 'sqft_basement' column:\", percentage_question_marks.round(2))"
   ]
  },
  {
   "cell_type": "code",
   "execution_count": 24,
   "metadata": {},
   "outputs": [],
   "source": [
    "# Drop rows with '?' in the 'sqft_basement' column\n",
    "df = df[df['sqft_basement'] != '?']\n",
    "\n",
    "# Convert the 'sqft_basement' column to float\n",
    "df['sqft_basement'] = df['sqft_basement'].astype(float)"
   ]
  },
  {
   "cell_type": "code",
   "execution_count": 25,
   "metadata": {},
   "outputs": [],
   "source": [
    "# To remove duplicates in 'df' in place\n",
    "df.drop_duplicates(inplace=True)\n"
   ]
  },
  {
   "cell_type": "markdown",
   "metadata": {},
   "source": [
    "\n",
    "### Data Conversion\n",
    "Conversion of expected features to the right data types"
   ]
  },
  {
   "cell_type": "code",
   "execution_count": 26,
   "metadata": {},
   "outputs": [],
   "source": [
    "# Convert the 'date' column to datetime format\n",
    "df['date'] = pd.to_datetime(df['date'], format='%m/%d/%Y')"
   ]
  },
  {
   "cell_type": "code",
   "execution_count": 27,
   "metadata": {},
   "outputs": [],
   "source": [
    "# Convert the 'year_renovated' column to integers\n",
    "df['yr_renovated'] = df['yr_renovated'].astype(int)"
   ]
  },
  {
   "cell_type": "markdown",
   "metadata": {},
   "source": [
    "### Detect Outliers\n",
    "We check for outliers that may interfere with measures of tendency in our dataset, data quality, statistical accuracy, model performance and visualization."
   ]
  },
  {
   "cell_type": "code",
   "execution_count": 28,
   "metadata": {},
   "outputs": [
    {
     "data": {
      "text/html": [
       "<div>\n",
       "<style scoped>\n",
       "    .dataframe tbody tr th:only-of-type {\n",
       "        vertical-align: middle;\n",
       "    }\n",
       "\n",
       "    .dataframe tbody tr th {\n",
       "        vertical-align: top;\n",
       "    }\n",
       "\n",
       "    .dataframe thead th {\n",
       "        text-align: right;\n",
       "    }\n",
       "</style>\n",
       "<table border=\"1\" class=\"dataframe\">\n",
       "  <thead>\n",
       "    <tr style=\"text-align: right;\">\n",
       "      <th></th>\n",
       "      <th>id</th>\n",
       "      <th>price</th>\n",
       "      <th>bedrooms</th>\n",
       "      <th>bathrooms</th>\n",
       "      <th>sqft_living</th>\n",
       "      <th>sqft_lot</th>\n",
       "      <th>floors</th>\n",
       "      <th>sqft_above</th>\n",
       "      <th>sqft_basement</th>\n",
       "      <th>yr_built</th>\n",
       "      <th>yr_renovated</th>\n",
       "      <th>zipcode</th>\n",
       "      <th>lat</th>\n",
       "      <th>long</th>\n",
       "      <th>sqft_living15</th>\n",
       "      <th>sqft_lot15</th>\n",
       "    </tr>\n",
       "  </thead>\n",
       "  <tbody>\n",
       "    <tr>\n",
       "      <th>count</th>\n",
       "      <td>2.114300e+04</td>\n",
       "      <td>2.114300e+04</td>\n",
       "      <td>21143.000000</td>\n",
       "      <td>21143.000000</td>\n",
       "      <td>21143.000000</td>\n",
       "      <td>2.114300e+04</td>\n",
       "      <td>21143.000000</td>\n",
       "      <td>21143.000000</td>\n",
       "      <td>21143.000000</td>\n",
       "      <td>21143.000000</td>\n",
       "      <td>21143.000000</td>\n",
       "      <td>21143.000000</td>\n",
       "      <td>21143.000000</td>\n",
       "      <td>21143.000000</td>\n",
       "      <td>21143.00000</td>\n",
       "      <td>21143.000000</td>\n",
       "    </tr>\n",
       "    <tr>\n",
       "      <th>mean</th>\n",
       "      <td>4.581004e+09</td>\n",
       "      <td>5.405107e+05</td>\n",
       "      <td>3.372558</td>\n",
       "      <td>2.116079</td>\n",
       "      <td>2080.920730</td>\n",
       "      <td>1.508714e+04</td>\n",
       "      <td>1.493591</td>\n",
       "      <td>1789.069006</td>\n",
       "      <td>291.851724</td>\n",
       "      <td>1971.023223</td>\n",
       "      <td>68.256492</td>\n",
       "      <td>98077.868893</td>\n",
       "      <td>47.560274</td>\n",
       "      <td>-122.213876</td>\n",
       "      <td>1987.27139</td>\n",
       "      <td>12738.941967</td>\n",
       "    </tr>\n",
       "    <tr>\n",
       "      <th>std</th>\n",
       "      <td>2.876328e+09</td>\n",
       "      <td>3.680751e+05</td>\n",
       "      <td>0.924917</td>\n",
       "      <td>0.768531</td>\n",
       "      <td>918.547562</td>\n",
       "      <td>4.120920e+04</td>\n",
       "      <td>0.539249</td>\n",
       "      <td>828.409769</td>\n",
       "      <td>442.498337</td>\n",
       "      <td>29.321938</td>\n",
       "      <td>362.765827</td>\n",
       "      <td>53.535756</td>\n",
       "      <td>0.138591</td>\n",
       "      <td>0.140597</td>\n",
       "      <td>685.67034</td>\n",
       "      <td>27169.273663</td>\n",
       "    </tr>\n",
       "    <tr>\n",
       "      <th>min</th>\n",
       "      <td>1.000102e+06</td>\n",
       "      <td>7.800000e+04</td>\n",
       "      <td>1.000000</td>\n",
       "      <td>0.500000</td>\n",
       "      <td>370.000000</td>\n",
       "      <td>5.200000e+02</td>\n",
       "      <td>1.000000</td>\n",
       "      <td>370.000000</td>\n",
       "      <td>0.000000</td>\n",
       "      <td>1900.000000</td>\n",
       "      <td>0.000000</td>\n",
       "      <td>98001.000000</td>\n",
       "      <td>47.155900</td>\n",
       "      <td>-122.519000</td>\n",
       "      <td>399.00000</td>\n",
       "      <td>651.000000</td>\n",
       "    </tr>\n",
       "    <tr>\n",
       "      <th>25%</th>\n",
       "      <td>2.123049e+09</td>\n",
       "      <td>3.220000e+05</td>\n",
       "      <td>3.000000</td>\n",
       "      <td>1.750000</td>\n",
       "      <td>1430.000000</td>\n",
       "      <td>5.043000e+03</td>\n",
       "      <td>1.000000</td>\n",
       "      <td>1200.000000</td>\n",
       "      <td>0.000000</td>\n",
       "      <td>1952.000000</td>\n",
       "      <td>0.000000</td>\n",
       "      <td>98033.000000</td>\n",
       "      <td>47.471250</td>\n",
       "      <td>-122.328000</td>\n",
       "      <td>1490.00000</td>\n",
       "      <td>5100.000000</td>\n",
       "    </tr>\n",
       "    <tr>\n",
       "      <th>50%</th>\n",
       "      <td>3.904940e+09</td>\n",
       "      <td>4.500000e+05</td>\n",
       "      <td>3.000000</td>\n",
       "      <td>2.250000</td>\n",
       "      <td>1910.000000</td>\n",
       "      <td>7.620000e+03</td>\n",
       "      <td>1.500000</td>\n",
       "      <td>1560.000000</td>\n",
       "      <td>0.000000</td>\n",
       "      <td>1975.000000</td>\n",
       "      <td>0.000000</td>\n",
       "      <td>98065.000000</td>\n",
       "      <td>47.572000</td>\n",
       "      <td>-122.230000</td>\n",
       "      <td>1840.00000</td>\n",
       "      <td>7626.000000</td>\n",
       "    </tr>\n",
       "    <tr>\n",
       "      <th>75%</th>\n",
       "      <td>7.309100e+09</td>\n",
       "      <td>6.450000e+05</td>\n",
       "      <td>4.000000</td>\n",
       "      <td>2.500000</td>\n",
       "      <td>2550.000000</td>\n",
       "      <td>1.069550e+04</td>\n",
       "      <td>2.000000</td>\n",
       "      <td>2210.000000</td>\n",
       "      <td>560.000000</td>\n",
       "      <td>1997.000000</td>\n",
       "      <td>0.000000</td>\n",
       "      <td>98117.000000</td>\n",
       "      <td>47.678200</td>\n",
       "      <td>-122.125000</td>\n",
       "      <td>2360.00000</td>\n",
       "      <td>10087.000000</td>\n",
       "    </tr>\n",
       "    <tr>\n",
       "      <th>max</th>\n",
       "      <td>9.900000e+09</td>\n",
       "      <td>7.700000e+06</td>\n",
       "      <td>33.000000</td>\n",
       "      <td>8.000000</td>\n",
       "      <td>13540.000000</td>\n",
       "      <td>1.651359e+06</td>\n",
       "      <td>3.500000</td>\n",
       "      <td>9410.000000</td>\n",
       "      <td>4820.000000</td>\n",
       "      <td>2015.000000</td>\n",
       "      <td>2015.000000</td>\n",
       "      <td>98199.000000</td>\n",
       "      <td>47.777600</td>\n",
       "      <td>-121.315000</td>\n",
       "      <td>6210.00000</td>\n",
       "      <td>871200.000000</td>\n",
       "    </tr>\n",
       "  </tbody>\n",
       "</table>\n",
       "</div>"
      ],
      "text/plain": [
       "                 id         price      bedrooms     bathrooms   sqft_living  \\\n",
       "count  2.114300e+04  2.114300e+04  21143.000000  21143.000000  21143.000000   \n",
       "mean   4.581004e+09  5.405107e+05      3.372558      2.116079   2080.920730   \n",
       "std    2.876328e+09  3.680751e+05      0.924917      0.768531    918.547562   \n",
       "min    1.000102e+06  7.800000e+04      1.000000      0.500000    370.000000   \n",
       "25%    2.123049e+09  3.220000e+05      3.000000      1.750000   1430.000000   \n",
       "50%    3.904940e+09  4.500000e+05      3.000000      2.250000   1910.000000   \n",
       "75%    7.309100e+09  6.450000e+05      4.000000      2.500000   2550.000000   \n",
       "max    9.900000e+09  7.700000e+06     33.000000      8.000000  13540.000000   \n",
       "\n",
       "           sqft_lot        floors    sqft_above  sqft_basement      yr_built  \\\n",
       "count  2.114300e+04  21143.000000  21143.000000   21143.000000  21143.000000   \n",
       "mean   1.508714e+04      1.493591   1789.069006     291.851724   1971.023223   \n",
       "std    4.120920e+04      0.539249    828.409769     442.498337     29.321938   \n",
       "min    5.200000e+02      1.000000    370.000000       0.000000   1900.000000   \n",
       "25%    5.043000e+03      1.000000   1200.000000       0.000000   1952.000000   \n",
       "50%    7.620000e+03      1.500000   1560.000000       0.000000   1975.000000   \n",
       "75%    1.069550e+04      2.000000   2210.000000     560.000000   1997.000000   \n",
       "max    1.651359e+06      3.500000   9410.000000    4820.000000   2015.000000   \n",
       "\n",
       "       yr_renovated       zipcode           lat          long  sqft_living15  \\\n",
       "count  21143.000000  21143.000000  21143.000000  21143.000000    21143.00000   \n",
       "mean      68.256492  98077.868893     47.560274   -122.213876     1987.27139   \n",
       "std      362.765827     53.535756      0.138591      0.140597      685.67034   \n",
       "min        0.000000  98001.000000     47.155900   -122.519000      399.00000   \n",
       "25%        0.000000  98033.000000     47.471250   -122.328000     1490.00000   \n",
       "50%        0.000000  98065.000000     47.572000   -122.230000     1840.00000   \n",
       "75%        0.000000  98117.000000     47.678200   -122.125000     2360.00000   \n",
       "max     2015.000000  98199.000000     47.777600   -121.315000     6210.00000   \n",
       "\n",
       "          sqft_lot15  \n",
       "count   21143.000000  \n",
       "mean    12738.941967  \n",
       "std     27169.273663  \n",
       "min       651.000000  \n",
       "25%      5100.000000  \n",
       "50%      7626.000000  \n",
       "75%     10087.000000  \n",
       "max    871200.000000  "
      ]
     },
     "execution_count": 28,
     "metadata": {},
     "output_type": "execute_result"
    }
   ],
   "source": [
    "df.describe()"
   ]
  },
  {
   "cell_type": "markdown",
   "metadata": {},
   "source": [
    "We deduce the following information from the data’s summary statistics:\n",
    "* Average house price: USD540,510.7, with a standard deviation of USD368,075.1. Prices range from USD78,000 to USD7,700,000.\n",
    "* Average number of bedrooms: 3.37, with a standard deviation of 0.92. Bedrooms range from 1 to 33, potentially indicating data errors.\n",
    "* Average number of bathrooms: 2.12, with a standard deviation of 0.77. Bathrooms range from 0.5 to 8.\n",
    "* Average living space: Approximately 2080.92 sq. ft., with a standard deviation of 918.55 sq. ft. Living space varies from 370 sq. ft. to 13,540 sq. ft.\n",
    "* Average lot size: Around 15,087.14 sq. ft., with a standard deviation of 41,209.2 sq. ft. Lot sizes range from 520 sq. ft. to 1,651,359 sq. ft.\n",
    "* Average number of floors: Approximately 1.49, with a standard deviation of 0.54. Properties have 1 to 3.5 floors.\n",
    "* Average year built: Around 1971, with a standard deviation of 29.32. Buildings date from 1900 to 2015.\n",
    "* Average renovation year: Approximately 68.26, with variations. Properties range from no renovations to those renovated as recently as 2015.\n",
    "* Average zipcode: 98077, with moderate variability (standard deviation 53.54). Zipcodes range from 98001 to 98199.\n",
    "* Average latitude: Approximately 47.56, with minimal variability (standard deviation 0.14). Latitudes range from 47.16 to 47.78.\n",
    "* Average longitude: Roughly -122.21, with minimal variability (standard deviation 0.14). Longitudes range from -122.52 to -121.31.\n",
    "* Average sq. ft. of interior living space for nearest 15 neighbors: Around 1987.27 sq. ft., with a standard deviation of 685.67 sq. ft. Sizes vary from 399 sq. ft. to 6,210 sq. ft.\n",
    "* Average sq. ft. of land lots for nearest 15 neighbors: Approximately 12,738.94 sq. ft., with significant variability (standard deviation 27,169.27 sq. ft.). Lot sizes range from 651 sq. ft. to 871,200 sq. ft.\n"
   ]
  },
  {
   "cell_type": "code",
   "execution_count": 29,
   "metadata": {
    "scrolled": true
   },
   "outputs": [
    {
     "data": {
      "image/png": "[encoded data removed]",
      "text/plain": [
       "<Figure size 1500x1000 with 12 Axes>"
      ]
     },
     "metadata": {},
     "output_type": "display_data"
    }
   ],
   "source": [
    "# Check for outliers in the numeric variables\n",
    "def detectoutliers():\n",
    "    fig, axs = plt.subplots(4, 3, figsize=(15, 10))\n",
    "    \n",
    "    sns.boxplot(df['price'], ax=axs[0, 0])\n",
    "    axs[0, 0].set_title('Price')\n",
    "    sns.boxplot(df['bedrooms'], ax=axs[0, 1])\n",
    "    axs[0, 1].set_title('Bedrooms')\n",
    "    sns.boxplot(df['bathrooms'], ax=axs[0, 2])\n",
    "    axs[0, 2].set_title('Bathrooms')\n",
    "    sns.boxplot(df['sqft_living'], ax=axs[1, 0])\n",
    "    axs[1, 0].set_title('Sqft Living')\n",
    "    sns.boxplot(df['sqft_lot'], ax=axs[1, 1])\n",
    "    axs[1, 1].set_title('Sqft Lot')\n",
    "    sns.boxplot(df['floors'], ax=axs[1, 2])\n",
    "    axs[1, 2].set_title('Floors')\n",
    "    sns.boxplot(df['sqft_above'], ax=axs[2, 0])\n",
    "    axs[2, 0].set_title('Sqft Above')\n",
    "    sns.boxplot(df['sqft_basement'], ax=axs[2, 1])\n",
    "    axs[2, 1].set_title('Sqft Basement')\n",
    "    sns.boxplot(df['yr_built'], ax=axs[2, 2])\n",
    "    axs[2, 2].set_title('Yr Built')\n",
    "    sns.boxplot(df['sqft_living15'], ax=axs[3, 0])\n",
    "    axs[3, 0].set_title('Sqft Living15')\n",
    "    sns.boxplot(df['sqft_lot15'], ax=axs[3, 1])\n",
    "    axs[3, 1].set_title('Sqft Lot15')\n",
    "    \n",
    "    plt.tight_layout()\n",
    "    plt.show()\n",
    "\n",
    "detectoutliers()"
   ]
  },
  {
   "cell_type": "code",
   "execution_count": 30,
   "metadata": {
    "scrolled": true
   },
   "outputs": [
    {
     "data": {
      "text/plain": [
       "60"
      ]
     },
     "execution_count": 30,
     "metadata": {},
     "output_type": "execute_result"
    }
   ],
   "source": [
    "# Find houses with more than 6 bedrooms\n",
    "houses_above_6_bedrooms = len(df[df['bedrooms'] >6])\n",
    "houses_above_6_bedrooms"
   ]
  },
  {
   "cell_type": "code",
   "execution_count": 31,
   "metadata": {},
   "outputs": [],
   "source": [
    "# Drop the houses with more than 6 bedrooms (outliers)\n",
    "df = df[df['bedrooms'] <= 6]"
   ]
  },
  {
   "cell_type": "code",
   "execution_count": 32,
   "metadata": {
    "scrolled": false
   },
   "outputs": [
    {
     "data": {
      "image/png": "[encoded data removed]",
      "text/plain": [
       "<Figure size 400x200 with 1 Axes>"
      ]
     },
     "metadata": {},
     "output_type": "display_data"
    }
   ],
   "source": [
    "# Plot the 'bedrooms' column\n",
    "plt.figure(figsize=(4, 2))\n",
    "sns.boxplot(x=df['bedrooms'])\n",
    "plt.title('Box Plot of Bedrooms')\n",
    "plt.xlabel('Number of Bedrooms')\n",
    "\n",
    "plt.show()"
   ]
  },
  {
   "cell_type": "markdown",
   "metadata": {},
   "source": [
    "We found out that certain houses had an exceptionally high number of bedrooms, such as one with 33 bedrooms. We considered this to be impractical especially with a relatively low area in square feet. As a result, we chose to focus our efforts on houses that had a maximum of 6 bedrooms for the sake of practicality."
   ]
  }
 ],
 "metadata": {
  "kernelspec": {
   "display_name": "Python 3",
   "language": "python",
   "name": "python3"
  },
  "language_info": {
   "codemirror_mode": {
    "name": "ipython",
    "version": 3
   },
   "file_extension": ".py",
   "mimetype": "text/x-python",
   "name": "python",
   "nbconvert_exporter": "python",
   "pygments_lexer": "ipython3",
   "version": "3.8.5"
  }
 },
 "nbformat": 4,
 "nbformat_minor": 2
}
